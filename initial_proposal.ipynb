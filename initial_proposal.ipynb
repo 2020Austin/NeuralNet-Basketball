{
 "cells": [
  {
   "cell_type": "markdown",
   "metadata": {},
   "source": [
    "### VISION:\n",
    "- Our vision is to train a neural net using reinforcement learning to simulate shooting a basketball into a hoop and create a 3D representation of that simulation. For each generation of training, we will simulate the shot in 3D. If all goes well, our final program will be trained to shoot a ball into a basket, and we can watch it in 3D by the end of the semester. If we have time, possible future directions include shooting from a different location on the court, implementing a defender, or creating a soccer free-kick simulator using the same logic. \n",
    "\n",
    "### STARTING POINTS:\n",
    "- We are basing our project on a number of guides, as we are largely using libraries that we did not explicitly learn as part of this class. To implement reinforcement learning, we are using pygame, tensorflow, tensorflow-probability, ray, and gym, as outlined in this walkthrough: https://towardsdatascience.com/ultimate-guide-for-reinforced-learning-part-1-creating-a-game-956f1f2b0a91. Then, to simulate each shot in 3D, we will be using VPython. Here is an example of a bouncing ball that will be relevant for our project: https://vpython.org/contents/bounce_example.html. Essentially, we are using Pygame to hold the logic and physics of the program, and VPython as the 3D display. Beyond these walkthroughs, our process will include using our reinforcement learning process to generate a vector of shot direction and initial velocity of the ball. Then, we have to find a way to generate that shot using VPython using the vector that we generated. This will include designing the 3D environment, including the hoop and our shooter, who we are naming _PyChael Jordan_. We have been able to install and access all necessary libraries so far. Since we are doing reinforcement learning rather than classifiers and regressors, we do not really work with a dataset (at least explicitly WE don't. The program will build its own internal dataset to work with, as we understand it).\n",
    "\n",
    "\n",
    "### PROGRESS\n",
    "We have our OpenAI Gym-structured Pygame environment ready to go. Physics, collisions, and other were decently smooth to implement since it’s a very well-documented library (and everyone loves gamedev). Rudimentary observations (net distance to hoop, bucket or not) have been defined, and reward is a WIP but currently buckets are weighted much more heavily. A random agent that plays without regard for learning is working - Reinforcement Model is training as we speak but it’s a black box until finished (visualization is done posthoc with tensorboard), so we have not much idea of how well our reward is working.\n",
    "\n",
    "In terms of the 3D rendering part, VPython has proven to be a hassle to work with (largely because it was made in 2000, so it is literally older than me). It does not contain collision physics, so we are creating the physics by hand. We have not yet finished training our reinforcement model to try to simulate a real shot that the model chose, but we imagine that doing so will require a good amount of trial and error in adjusting the physics of the 3D program that we created. That being said, we can currently simulate a semi-realistic free throw using a starting x-velocity and y-velocity.\n",
    "\n",
    "\n",
    "### LINK TO PRESENTATION\n",
    "https://docs.google.com/presentation/d/1uSXE5OeFBhA2rGpn7SxFO3Kwj3gJb4sRODeogDkgzTU/edit?usp=sharing\n"
   ]
  }
 ],
 "metadata": {
  "interpreter": {
   "hash": "2a6cff3cdd7fef4142d18baf1e5dd979793413ed341fd7e6947b0b1ceb357ed3"
  },
  "kernelspec": {
   "display_name": "Python 3.9.7 64-bit",
   "language": "python",
   "name": "python3"
  },
  "language_info": {
   "name": "python",
   "version": "3.9.7"
  },
  "orig_nbformat": 4
 },
 "nbformat": 4,
 "nbformat_minor": 2
}
